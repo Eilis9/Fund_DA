{
 "cells": [
  {
   "cell_type": "markdown",
   "metadata": {},
   "source": [
    "# Fundamentals of Data Analysis Tasks\n",
    "Eilis Donohue - G00006088\n",
    "***"
   ]
  },
  {
   "cell_type": "markdown",
   "metadata": {},
   "source": [
    "##Task 1\n",
    "Collatz Conjecture\n",
    "\n",
    "References\n",
    "https://stackoverflow.com/questions/39734485/python-combining-two-lists-and-removing-duplicates-in-a-functional-programming\n",
    "\n",
    "https://stackoverflow.com/questions/59925384/python-remove-elements-that-are-greater-than-a-threshold-from-a-list"
   ]
  },
  {
   "cell_type": "code",
   "execution_count": 2,
   "metadata": {},
   "outputs": [],
   "source": [
    "def f(x):\n",
    "  # check if even - if even divide by 2\n",
    "  if x % 2 ==0:\n",
    "    return x/2 \n",
    "  else:\n",
    "    return (x * 3) + 1"
   ]
  },
  {
   "cell_type": "code",
   "execution_count": 33,
   "metadata": {},
   "outputs": [
    {
     "name": "stdout",
     "output_type": "stream",
     "text": [
      "Collatz conjecture proven for first 100000 integers, completed in 27312 cycles\n"
     ]
    }
   ],
   "source": [
    "# Define some variables\n",
    "# Define the number of positive integers we want to check satisfies the Collatz conjecture\n",
    "number_of_integers = 100000\n",
    "\n",
    "# Define list of proven integers\n",
    "proved_set = set()\n",
    "loop_counter = 0\n",
    "\n",
    "# Loop backwards from the required number of integers\n",
    "for x in reversed(range(1, number_of_integers+1, 1)):\n",
    "  # check if the number has already been proven\n",
    "  if x not in proved_set:\n",
    "    # Define an empty list to store the collatz sequence for each number and a loop counter to check how many collatz sequences are actually calculated\n",
    "    loop_counter = loop_counter + 1\n",
    "    number_set = set() \n",
    "    while x != 1:\n",
    "      # call Collatz function\n",
    "      x = f(x)\n",
    "      # append each value to the collatz sequence set\n",
    "      number_set.add(x)\n",
    "  # remove the numbers bigger than number_of_integers from the set so that we aren't storing numbers greater than this\n",
    "  number_set = {val for val in number_set if val<=number_of_integers}\n",
    "  # Union the sets to remove duplicates and get new proven set of numbers\n",
    "  proved_set = proved_set | number_set\n",
    "  \n",
    "print(f\"Collatz conjecture proven for first {number_of_integers} integers, completed in {loop_counter} cycles\")"
   ]
  },
  {
   "cell_type": "markdown",
   "metadata": {},
   "source": [
    "***\n",
    "End"
   ]
  }
 ],
 "metadata": {
  "kernelspec": {
   "display_name": "base",
   "language": "python",
   "name": "python3"
  },
  "language_info": {
   "codemirror_mode": {
    "name": "ipython",
    "version": 3
   },
   "file_extension": ".py",
   "mimetype": "text/x-python",
   "name": "python",
   "nbconvert_exporter": "python",
   "pygments_lexer": "ipython3",
   "version": "3.10.9"
  },
  "orig_nbformat": 4
 },
 "nbformat": 4,
 "nbformat_minor": 2
}
