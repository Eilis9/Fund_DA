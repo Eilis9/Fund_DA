{
 "cells": [
  {
   "cell_type": "markdown",
   "metadata": {},
   "source": [
    "# Fundamentals of Data Analysis Tasks\n",
    "Eilis Donohue - G00006088\n",
    "***"
   ]
  },
  {
   "cell_type": "markdown",
   "metadata": {},
   "source": [
    "## Task 1\n",
    "Collatz Conjecture\n",
    "\n",
    "References\n",
    "https://stackoverflow.com/questions/39734485/python-combining-two-lists-and-removing-duplicates-in-a-functional-programming\n",
    "\n",
    "https://stackoverflow.com/questions/59925384/python-remove-elements-that-are-greater-than-a-threshold-from-a-list"
   ]
  },
  {
   "cell_type": "code",
   "execution_count": 12,
   "metadata": {},
   "outputs": [],
   "source": [
    "# import packages\n",
    "# import time to time the execution\n",
    "import time\n",
    "\n",
    "# the function to do collatz execution\n",
    "def f(x):\n",
    "  # check if even - if even divide by 2\n",
    "  if x % 2 == 0:\n",
    "    return x/2 \n",
    "  else:\n",
    "    return (x * 3) + 1 "
   ]
  },
  {
   "cell_type": "code",
   "execution_count": 22,
   "metadata": {},
   "outputs": [
    {
     "ename": "KeyboardInterrupt",
     "evalue": "",
     "output_type": "error",
     "traceback": [
      "\u001b[1;31m---------------------------------------------------------------------------\u001b[0m",
      "\u001b[1;31mKeyboardInterrupt\u001b[0m                         Traceback (most recent call last)",
      "\u001b[1;32mc:\\Users\\eilis.donohue\\OneDrive - Wood PLC\\my_projects\\Python_projects\\course\\Fund_Data_Analysis\\Fundamentals_Data_Analysis\\tasks.ipynb Cell 4\u001b[0m line \u001b[0;36m2\n\u001b[0;32m     <a href='vscode-notebook-cell:/c%3A/Users/eilis.donohue/OneDrive%20-%20Wood%20PLC/my_projects/Python_projects/course/Fund_Data_Analysis/Fundamentals_Data_Analysis/tasks.ipynb#W3sZmlsZQ%3D%3D?line=23'>24</a>\u001b[0m   \u001b[39m# remove the numbers bigger than number_of_integers from the set so that we aren't storing numbers greater than this\u001b[39;00m\n\u001b[0;32m     <a href='vscode-notebook-cell:/c%3A/Users/eilis.donohue/OneDrive%20-%20Wood%20PLC/my_projects/Python_projects/course/Fund_Data_Analysis/Fundamentals_Data_Analysis/tasks.ipynb#W3sZmlsZQ%3D%3D?line=24'>25</a>\u001b[0m   \u001b[39m#number_set = {val for val in number_set if val<=number_of_integers}\u001b[39;00m\n\u001b[0;32m     <a href='vscode-notebook-cell:/c%3A/Users/eilis.donohue/OneDrive%20-%20Wood%20PLC/my_projects/Python_projects/course/Fund_Data_Analysis/Fundamentals_Data_Analysis/tasks.ipynb#W3sZmlsZQ%3D%3D?line=25'>26</a>\u001b[0m   \u001b[39m# Union the sets to remove duplicates and get new proven set of numbers\u001b[39;00m\n\u001b[0;32m     <a href='vscode-notebook-cell:/c%3A/Users/eilis.donohue/OneDrive%20-%20Wood%20PLC/my_projects/Python_projects/course/Fund_Data_Analysis/Fundamentals_Data_Analysis/tasks.ipynb#W3sZmlsZQ%3D%3D?line=26'>27</a>\u001b[0m   proved_set \u001b[39m=\u001b[39m proved_set \u001b[39m|\u001b[39m number_set\n\u001b[1;32m---> <a href='vscode-notebook-cell:/c%3A/Users/eilis.donohue/OneDrive%20-%20Wood%20PLC/my_projects/Python_projects/course/Fund_Data_Analysis/Fundamentals_Data_Analysis/tasks.ipynb#W3sZmlsZQ%3D%3D?line=27'>28</a>\u001b[0m   et \u001b[39m=\u001b[39m time\u001b[39m.\u001b[39mtime()\n\u001b[0;32m     <a href='vscode-notebook-cell:/c%3A/Users/eilis.donohue/OneDrive%20-%20Wood%20PLC/my_projects/Python_projects/course/Fund_Data_Analysis/Fundamentals_Data_Analysis/tasks.ipynb#W3sZmlsZQ%3D%3D?line=28'>29</a>\u001b[0m \u001b[39mprint\u001b[39m(\u001b[39mf\u001b[39m\u001b[39m\"\u001b[39m\u001b[39mCollatz conjecture proven for first \u001b[39m\u001b[39m{\u001b[39;00mnumber_of_integers\u001b[39m}\u001b[39;00m\u001b[39m integers, completed in \u001b[39m\u001b[39m{\u001b[39;00mloop_counter\u001b[39m}\u001b[39;00m\u001b[39m cycles in \u001b[39m\u001b[39m{\u001b[39;00met\u001b[39m-\u001b[39mst\u001b[39m}\u001b[39;00m\u001b[39m seconds\u001b[39m\u001b[39m\"\u001b[39m)\n",
      "\u001b[1;31mKeyboardInterrupt\u001b[0m: "
     ]
    }
   ],
   "source": [
    "# import time to time the execution\n",
    "import time\n",
    "# Define some variables\n",
    "# Define the number of positive integers we want to check satisfies the Collatz conjecture\n",
    "number_of_integers = 1000000\n",
    "\n",
    "# Define empty set of proven integers\n",
    "proved_set = set()\n",
    "loop_counter = 0\n",
    "st = time.time()\n",
    "# Loop backwards from the required number of integers\n",
    "for x in reversed(range(1, number_of_integers+1, 1)):\n",
    "  # check if the number has already been proven\n",
    "  if x not in proved_set:\n",
    "    # Define an empty list to store the collatz sequence for each number and a loop counter to check how many collatz sequences are actually calculated\n",
    "    loop_counter = loop_counter + 1\n",
    "    number_set = set() \n",
    "    while x != 1:\n",
    "      # call Collatz function\n",
    "      x = f(x)\n",
    "      # append each value to the collatz sequence set\n",
    "      # Could actually just only add numbers to the set if they're below number_of_integers to avoid having to remove later\n",
    "      number_set.add(x)\n",
    "  # remove the numbers bigger than number_of_integers from the set so that we aren't storing numbers greater than this\n",
    "  #number_set = {val for val in number_set if val<=number_of_integers}\n",
    "  # Union the sets to remove duplicates and get new proven set of numbers\n",
    "  proved_set = proved_set | number_set\n",
    "  et = time.time()\n",
    "print(f\"Collatz conjecture proven for first {number_of_integers} integers, completed in {loop_counter} loops in {et-st} seconds\")\n",
    "\n"
   ]
  },
  {
   "cell_type": "code",
   "execution_count": 20,
   "metadata": {},
   "outputs": [
    {
     "name": "stdout",
     "output_type": "stream",
     "text": [
      "Collatz conjecture proven for first 1000000 integers, completed in 1000000 cycles in 46.73258876800537 seconds\n"
     ]
    }
   ],
   "source": [
    "# Brute force - run every integer completely \n",
    "\n",
    "import time\n",
    "# Define some variables\n",
    "# Define the number of positive integers we want to check satisfies the Collatz conjecture\n",
    "number_of_integers = 1000000\n",
    "\n",
    "# Define empty set of proven integers\n",
    "proved_set = set()\n",
    "loop_counter = 0\n",
    "st = time.time()\n",
    "\n",
    "# Loop backwards from the required number of integers\n",
    "for x in range(1, number_of_integers+1, 1):\n",
    "  # check if the number has already been proven\n",
    "    loop_counter = loop_counter + 1\n",
    "    number_set = [x]\n",
    "    while x != 1:\n",
    "      # call Collatz function\n",
    "      x = f(x)\n",
    "      # append each value to the collatz sequence set\n",
    "      # Could actually just only add numbers to the set if they're below number_of_integers to avoid having to remove later\n",
    "      number_set.append(x)\n",
    "  # remove the numbers bigger than number_of_integers from the set so that we aren't storing numbers greater than this\n",
    "    #number_set = {val for val in number_set if val<=number_of_integers}\n",
    "   # print(number_set)\n",
    "  # Union the sets to remove duplicates and get new proven set of numbers\n",
    "#  proved_set = proved_set | number_set\n",
    "    et = time.time()\n",
    "print(f\"Collatz conjecture proven for first {number_of_integers} integers, completed in {loop_counter} loops in {et-st} seconds\")\n"
   ]
  },
  {
   "cell_type": "markdown",
   "metadata": {},
   "source": [
    "It seems that running all the integers without checking if a number has already been hit on in a previous loop is faster up to at least 1e6 integers (46.7s). There is further optimisation in cutting off a series by checking each output of the collatz against the proven set. This is to be investigated"
   ]
  },
  {
   "cell_type": "markdown",
   "metadata": {},
   "source": [
    "---\n",
    "## Task 2\n",
    "Give an overview of the famous penguins data set 2, explaining the types of variables it contains. Suggest the types of variables that should be used to model them in Python, explaining your rationale.\n",
    "\n",
    "2 mwaskom/seaborn-data: Data repository\n",
    "for seaborn examples. Aug. 30, 2023. url:\n",
    "https://github.com/mwaskom/\n",
    "seaborn - data / blob / master /\n",
    "penguins.csv (visited on 08/30/2023)."
   ]
  },
  {
   "cell_type": "code",
   "execution_count": 21,
   "metadata": {},
   "outputs": [
    {
     "name": "stdout",
     "output_type": "stream",
     "text": [
      "  species     island  bill_length_mm  bill_depth_mm  flipper_length_mm  \\\n",
      "0  Adelie  Torgersen            39.1           18.7              181.0   \n",
      "1  Adelie  Torgersen            39.5           17.4              186.0   \n",
      "2  Adelie  Torgersen            40.3           18.0              195.0   \n",
      "3  Adelie  Torgersen             NaN            NaN                NaN   \n",
      "4  Adelie  Torgersen            36.7           19.3              193.0   \n",
      "5  Adelie  Torgersen            39.3           20.6              190.0   \n",
      "6  Adelie  Torgersen            38.9           17.8              181.0   \n",
      "7  Adelie  Torgersen            39.2           19.6              195.0   \n",
      "8  Adelie  Torgersen            34.1           18.1              193.0   \n",
      "9  Adelie  Torgersen            42.0           20.2              190.0   \n",
      "\n",
      "   body_mass_g     sex  \n",
      "0       3750.0    MALE  \n",
      "1       3800.0  FEMALE  \n",
      "2       3250.0  FEMALE  \n",
      "3          NaN     NaN  \n",
      "4       3450.0  FEMALE  \n",
      "5       3650.0    MALE  \n",
      "6       3625.0  FEMALE  \n",
      "7       4675.0    MALE  \n",
      "8       3475.0     NaN  \n",
      "9       4250.0     NaN  \n"
     ]
    }
   ],
   "source": [
    "# Use pandas to read in the csv file in /data and get a preview of first 10 rows\n",
    "import pandas as pd\n",
    "\n",
    "penguins_df = pd.read_csv(\"data/penguins.csv\")\n",
    "print(penguins_df.head(10))"
   ]
  },
  {
   "cell_type": "code",
   "execution_count": 22,
   "metadata": {},
   "outputs": [
    {
     "name": "stdout",
     "output_type": "stream",
     "text": [
      "species               object\n",
      "island                object\n",
      "bill_length_mm       float64\n",
      "bill_depth_mm        float64\n",
      "flipper_length_mm    float64\n",
      "body_mass_g          float64\n",
      "sex                   object\n",
      "dtype: object\n"
     ]
    }
   ],
   "source": [
    "# Print the type for each variable in the dataframe\n",
    "print(penguins_df.dtypes)\n"
   ]
  },
  {
   "cell_type": "markdown",
   "metadata": {},
   "source": [
    "***\n",
    "End"
   ]
  }
 ],
 "metadata": {
  "kernelspec": {
   "display_name": "base",
   "language": "python",
   "name": "python3"
  },
  "language_info": {
   "codemirror_mode": {
    "name": "ipython",
    "version": 3
   },
   "file_extension": ".py",
   "mimetype": "text/x-python",
   "name": "python",
   "nbconvert_exporter": "python",
   "pygments_lexer": "ipython3",
   "version": "3.10.9"
  },
  "orig_nbformat": 4
 },
 "nbformat": 4,
 "nbformat_minor": 2
}
