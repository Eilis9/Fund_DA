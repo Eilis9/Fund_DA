{
 "cells": [
  {
   "cell_type": "markdown",
   "metadata": {},
   "source": [
    "# Fundamentals of Data Analysis Tasks\n",
    "Eilis Donohue - G00006088\n",
    "***"
   ]
  },
  {
   "cell_type": "markdown",
   "metadata": {},
   "source": [
    "## Task 1\n",
    "Collatz Conjecture\n",
    "\n",
    "References\n",
    "https://stackoverflow.com/questions/39734485/python-combining-two-lists-and-removing-duplicates-in-a-functional-programming\n",
    "\n",
    "https://stackoverflow.com/questions/59925384/python-remove-elements-that-are-greater-than-a-threshold-from-a-list"
   ]
  },
  {
   "cell_type": "code",
   "execution_count": 23,
   "metadata": {},
   "outputs": [],
   "source": [
    "# import packages\n",
    "# import time to time the execution\n",
    "import time\n",
    "\n",
    "# the function to do collatz execution\n",
    "def f(x):\n",
    "  # check if even - if even divide by 2\n",
    "  if x % 2 == 0:\n",
    "    return x/2 \n",
    "  else:\n",
    "    return (x * 3) + 1 "
   ]
  },
  {
   "cell_type": "code",
   "execution_count": 25,
   "metadata": {},
   "outputs": [
    {
     "name": "stdout",
     "output_type": "stream",
     "text": [
      "Collatz conjecture proven for first 10000 integers, completed in 2725 loops in 4.68923807144165 seconds\n"
     ]
    }
   ],
   "source": [
    "# import time to time the execution\n",
    "import time\n",
    "# Define some variables\n",
    "# Define the number of positive integers we want to check satisfies the Collatz conjecture\n",
    "number_of_integers = 10000\n",
    "\n",
    "# Define empty set of proven integers\n",
    "proved_set = set()\n",
    "loop_counter = 0\n",
    "st = time.time()\n",
    "# Loop backwards from the required number of integers\n",
    "for x in reversed(range(1, number_of_integers+1, 1)):\n",
    "  # check if the number has already been proven\n",
    "  if x not in proved_set:\n",
    "    # Define an empty list to store the collatz sequence for each number and a loop counter to check how many collatz sequences are actually calculated\n",
    "    loop_counter = loop_counter + 1\n",
    "    number_set = set() \n",
    "    while x != 1:\n",
    "      # call Collatz function\n",
    "      x = f(x)\n",
    "      # append each value to the collatz sequence set\n",
    "      # Could actually just only add numbers to the set if they're below number_of_integers to avoid having to remove later\n",
    "      number_set.add(x)\n",
    "  # remove the numbers bigger than number_of_integers from the set so that we aren't storing numbers greater than this\n",
    "  #number_set = {val for val in number_set if val<=number_of_integers}\n",
    "  # Union the sets to remove duplicates and get new proven set of numbers\n",
    "  proved_set = proved_set | number_set\n",
    "  et = time.time()\n",
    "print(f\"Collatz conjecture proven for first {number_of_integers} integers, completed in {loop_counter} loops in {et-st} seconds\")\n",
    "\n"
   ]
  },
  {
   "cell_type": "code",
   "execution_count": 20,
   "metadata": {},
   "outputs": [
    {
     "name": "stdout",
     "output_type": "stream",
     "text": [
      "Collatz conjecture proven for first 1000000 integers, completed in 1000000 cycles in 46.73258876800537 seconds\n"
     ]
    }
   ],
   "source": [
    "# Brute force - run every integer completely \n",
    "\n",
    "import time\n",
    "# Define some variables\n",
    "# Define the number of positive integers we want to check satisfies the Collatz conjecture\n",
    "number_of_integers = 1000000\n",
    "\n",
    "# Define empty set of proven integers\n",
    "proved_set = set()\n",
    "loop_counter = 0\n",
    "st = time.time()\n",
    "\n",
    "# Loop backwards from the required number of integers\n",
    "for x in range(1, number_of_integers+1, 1):\n",
    "  # check if the number has already been proven\n",
    "    loop_counter = loop_counter + 1\n",
    "    number_set = [x]\n",
    "    while x != 1:\n",
    "      # call Collatz function\n",
    "      x = f(x)\n",
    "      # append each value to the collatz sequence set\n",
    "      # Could actually just only add numbers to the set if they're below number_of_integers to avoid having to remove later\n",
    "      number_set.append(x)\n",
    "  # remove the numbers bigger than number_of_integers from the set so that we aren't storing numbers greater than this\n",
    "    #number_set = {val for val in number_set if val<=number_of_integers}\n",
    "   # print(number_set)\n",
    "  # Union the sets to remove duplicates and get new proven set of numbers\n",
    "#  proved_set = proved_set | number_set\n",
    "    et = time.time()\n",
    "print(f\"Collatz conjecture proven for first {number_of_integers} integers, completed in {loop_counter} loops in {et-st} seconds\")\n"
   ]
  },
  {
   "cell_type": "markdown",
   "metadata": {},
   "source": [
    "It seems that running all the integers without checking if a number has already been hit on in a previous loop is faster up to at least 1e6 integers (46.7s). There is further optimisation in cutting off a series by checking each output of the collatz against the proven set. This is to be investigated"
   ]
  },
  {
   "cell_type": "markdown",
   "metadata": {},
   "source": [
    "---\n",
    "## Task 2\n",
    "Give an overview of the famous penguins data set 2, explaining the types of variables it contains. Suggest the types of variables that should be used to model them in Python, explaining your rationale.\n",
    "\n",
    "2 mwaskom/seaborn-data: Data repository\n",
    "for seaborn examples. Aug. 30, 2023. url:\n",
    "https://github.com/mwaskom/\n",
    "seaborn - data / blob / master /\n",
    "penguins.csv (visited on 08/30/2023)."
   ]
  },
  {
   "cell_type": "markdown",
   "metadata": {},
   "source": [
    "Python datatypes:\n"
   ]
  },
  {
   "cell_type": "code",
   "execution_count": 38,
   "metadata": {},
   "outputs": [
    {
     "name": "stdout",
     "output_type": "stream",
     "text": [
      "  species     island  bill_length_mm  bill_depth_mm  flipper_length_mm  \\\n",
      "0  Adelie  Torgersen            39.1           18.7              181.0   \n",
      "1  Adelie  Torgersen            39.5           17.4              186.0   \n",
      "2  Adelie  Torgersen            40.3           18.0              195.0   \n",
      "3  Adelie  Torgersen             NaN            NaN                NaN   \n",
      "4  Adelie  Torgersen            36.7           19.3              193.0   \n",
      "5  Adelie  Torgersen            39.3           20.6              190.0   \n",
      "6  Adelie  Torgersen            38.9           17.8              181.0   \n",
      "7  Adelie  Torgersen            39.2           19.6              195.0   \n",
      "8  Adelie  Torgersen            34.1           18.1              193.0   \n",
      "9  Adelie  Torgersen            42.0           20.2              190.0   \n",
      "\n",
      "   body_mass_g     sex  \n",
      "0       3750.0    MALE  \n",
      "1       3800.0  FEMALE  \n",
      "2       3250.0  FEMALE  \n",
      "3          NaN     NaN  \n",
      "4       3450.0  FEMALE  \n",
      "5       3650.0    MALE  \n",
      "6       3625.0  FEMALE  \n",
      "7       4675.0    MALE  \n",
      "8       3475.0     NaN  \n",
      "9       4250.0     NaN  \n",
      "\n",
      "344 rows in dataframe\n"
     ]
    }
   ],
   "source": [
    "# Use pandas to read in the penguins csv file stored in /data and get a preview of first 10 rows\n",
    "import pandas as pd\n",
    "\n",
    "penguins_df = pd.read_csv(\"data/penguins.csv\")\n",
    "print(penguins_df.head(10))\n",
    "\n",
    "# Find the length of the dataframe\n",
    "print(f\"\\n{len(penguins_df.index)} rows in dataframe.\")"
   ]
  },
  {
   "cell_type": "code",
   "execution_count": 61,
   "metadata": {},
   "outputs": [
    {
     "name": "stdout",
     "output_type": "stream",
     "text": [
      "species               object\n",
      "island                object\n",
      "bill_length_mm       float64\n",
      "bill_depth_mm        float64\n",
      "flipper_length_mm    float64\n",
      "body_mass_g          float64\n",
      "sex                   object\n",
      "dtype: object\n"
     ]
    }
   ],
   "source": [
    "# Print the pandas assigned type for each variable in the dataframe\n",
    "print(penguins_df.dtypes)\n"
   ]
  },
  {
   "cell_type": "markdown",
   "metadata": {},
   "source": [
    "From the above, there are 4 variables which are identified as floating point numbers with at least one decimal place (all appearing to be measurements). **float** type would be used in Python to model these variables. Float type will also handle any \"nans\".\n",
    "\n",
    "There are 3 variables with textual data ('species', 'island' and 'sex') which are textual descriptors of the variable.\n",
    "\n",
    "The obvious Python datatypes for these variables would be string type **(str)** \n",
    "\n",
    "Identifying the unique data for each of the object/textual variable types in the dataframe:"
   ]
  },
  {
   "cell_type": "code",
   "execution_count": 62,
   "metadata": {},
   "outputs": [
    {
     "name": "stdout",
     "output_type": "stream",
     "text": [
      "['Adelie' 'Chinstrap' 'Gentoo']\n",
      "['Torgersen' 'Biscoe' 'Dream']\n",
      "['MALE' 'FEMALE' nan]\n"
     ]
    }
   ],
   "source": [
    "print(penguins_df[\"species\"].unique())\n",
    "print(penguins_df[\"island\"].unique())\n",
    "print(penguins_df[\"sex\"].unique())\n"
   ]
  },
  {
   "cell_type": "markdown",
   "metadata": {},
   "source": [
    "Getting a summary description of the textual variables below. From the unique description and the summary description and knowing there are 344 data entries in the dataset, it is clear that the species and island data entries are one of 3 possibilities and there are 11 nan values for the sex variable."
   ]
  },
  {
   "cell_type": "code",
   "execution_count": 63,
   "metadata": {},
   "outputs": [
    {
     "name": "stdout",
     "output_type": "stream",
     "text": [
      "count        344\n",
      "unique         3\n",
      "top       Adelie\n",
      "freq         152\n",
      "Name: species, dtype: object\n",
      "count        344\n",
      "unique         3\n",
      "top       Biscoe\n",
      "freq         168\n",
      "Name: island, dtype: object\n",
      "count      333\n",
      "unique       2\n",
      "top       MALE\n",
      "freq       168\n",
      "Name: sex, dtype: object\n"
     ]
    }
   ],
   "source": [
    "print(penguins_df[\"species\"].describe())\n",
    "print(penguins_df[\"island\"].describe())\n",
    "print(penguins_df[\"sex\"].describe())\n"
   ]
  },
  {
   "cell_type": "code",
   "execution_count": 60,
   "metadata": {},
   "outputs": [
    {
     "name": "stdout",
     "output_type": "stream",
     "text": [
      "nan\n"
     ]
    }
   ],
   "source": [
    "import numpy as np\n",
    "penguins_np = penguins_df.to_numpy()\n",
    "\n",
    "print(penguins_np[3, 2])\n"
   ]
  },
  {
   "cell_type": "markdown",
   "metadata": {},
   "source": [
    "***\n",
    "End"
   ]
  }
 ],
 "metadata": {
  "kernelspec": {
   "display_name": "base",
   "language": "python",
   "name": "python3"
  },
  "language_info": {
   "codemirror_mode": {
    "name": "ipython",
    "version": 3
   },
   "file_extension": ".py",
   "mimetype": "text/x-python",
   "name": "python",
   "nbconvert_exporter": "python",
   "pygments_lexer": "ipython3",
   "version": "3.10.9"
  },
  "orig_nbformat": 4
 },
 "nbformat": 4,
 "nbformat_minor": 2
}
