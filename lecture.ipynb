{
 "cells": [
  {
   "cell_type": "code",
   "execution_count": 1,
   "metadata": {},
   "outputs": [],
   "source": [
    "import numpy as np\n",
    "import matplotlib.pyplot as plt\n"
   ]
  },
  {
   "cell_type": "code",
   "execution_count": 2,
   "metadata": {},
   "outputs": [
    {
     "data": {
      "text/plain": [
       "0.7177099303215881"
      ]
     },
     "execution_count": 2,
     "metadata": {},
     "output_type": "execute_result"
    }
   ],
   "source": [
    "rng = np.random.default_rng()\n",
    "# Generates random floats in the half-open interval [0,1)\n",
    "rng.random()"
   ]
  },
  {
   "cell_type": "code",
   "execution_count": 3,
   "metadata": {},
   "outputs": [
    {
     "data": {
      "text/plain": [
       "array([ 0.68027467, -1.27847167, -0.15391515,  0.18794116,  1.69189995,\n",
       "        1.55553684,  0.1626986 ,  0.42613372, -1.62373899,  1.0390144 ,\n",
       "       -0.10000697, -0.09240531,  2.03798442, -1.96179846,  0.67169639,\n",
       "       -0.381242  , -0.27169612,  0.25056528,  2.08397944, -0.30965469,\n",
       "       -2.58556726, -1.74680656, -1.19536714, -0.20767378, -0.04660063,\n",
       "        0.1550244 , -0.2094297 , -0.69276226, -0.43902312, -1.03011178,\n",
       "       -1.29731983,  0.05120228,  0.97710267, -0.4592675 ,  1.02952102,\n",
       "        0.37497047,  1.89226572, -0.07002021,  1.14002218,  0.80680243,\n",
       "       -0.65264371,  0.22416546, -1.3225037 ,  2.05286492,  0.16630751,\n",
       "       -0.49318676,  0.58239582, -0.25607033, -0.86476776, -0.39584664,\n",
       "       -1.01808782,  1.2670625 ,  1.05169476,  0.6716532 , -0.62853214,\n",
       "       -0.82216883,  1.02153107,  0.31081713, -0.05671621, -0.35930092,\n",
       "       -0.05105987, -0.24345209, -0.07316895,  1.56871117,  1.26414013,\n",
       "       -0.13007844,  0.56931599,  0.56113995,  0.56904678, -0.02749052,\n",
       "       -0.96325565, -0.0339912 , -1.2332672 ,  0.85405093, -0.30976997,\n",
       "       -1.70433306,  1.21691724, -0.15932451,  0.39159699,  1.08806495,\n",
       "        1.06881975, -1.20502927, -1.51024788, -1.81384858, -0.00437414,\n",
       "        0.31907335, -0.4292949 , -1.72422549, -1.37623958, -1.62362214,\n",
       "       -0.63304062, -0.40949186,  0.76833351,  0.52875735, -1.64826414,\n",
       "       -0.02024135,  0.66687995, -0.56245975,  0.05826438,  0.46074244])"
      ]
     },
     "execution_count": 3,
     "metadata": {},
     "output_type": "execute_result"
    }
   ],
   "source": [
    "# Generate numbers on a standard normal distribution, mean is 0 and standard deviation is 1\n",
    "# more than 99pc of the numbers generated should be in the interval (-3, and 3)\n",
    "rng.standard_normal(100)"
   ]
  },
  {
   "cell_type": "code",
   "execution_count": 4,
   "metadata": {},
   "outputs": [
    {
     "data": {
      "text/plain": [
       "array([15, 17, 18, 17, 14, 12, 11, 14, 16, 14, 12, 10, 12, 18, 17],\n",
       "      dtype=int64)"
      ]
     },
     "execution_count": 4,
     "metadata": {},
     "output_type": "execute_result"
    }
   ],
   "source": [
    "rng.integers(low=10, high=20, size = 15)"
   ]
  },
  {
   "cell_type": "code",
   "execution_count": 13,
   "metadata": {},
   "outputs": [
    {
     "data": {
      "text/plain": [
       "array([ 6,  6,  9,  1, 10, 10,  6,  9,  3,  4,  6,  5,  8,  2, 10,  1,  9,\n",
       "        5,  3,  2,  1,  3,  2,  8,  2,  5,  6,  1,  6,  4,  2,  8,  2,  1,\n",
       "        4,  3,  1,  6,  9, 10, 10,  4,  7, 10,  5,  1,  7,  4, 10,  2,  3,\n",
       "        5,  6,  8,  6,  2,  7,  8,  5,  9,  5,  6,  5,  5,  1,  9, 10,  4,\n",
       "       10,  1,  7,  7,  1,  4,  1,  5,  2, 10,  8,  6, 10,  6,  2,  6, 10,\n",
       "        6,  8,  9,  9,  9,  8,  8,  2,  3,  5,  9,  3,  8,  1,  6,  7,  6,\n",
       "        2,  8,  7,  8,  1,  7,  1, 10,  2,  3,  9,  5, 10,  9,  8,  9,  8,\n",
       "        6,  8, 10,  6,  3,  9,  1,  5,  1,  5,  3,  9,  2,  5, 10,  3,  9,\n",
       "        8,  8,  4,  6,  6,  3,  8,  9,  5,  5,  6,  7,  1,  4,  1,  7,  8,\n",
       "        3,  3,  8,  7,  5,  7,  4,  6,  9,  9,  4,  7,  6,  6, 10,  3, 10,\n",
       "        9,  5,  7,  1,  1,  3,  1,  5,  4,  4,  6,  7,  5,  2,  4,  9,  7,\n",
       "       10,  1,  4,  3,  2,  1,  7,  2,  1,  7,  3,  1,  3,  1,  9,  6,  1,\n",
       "        3,  6,  1,  9,  5,  3,  8,  6,  9,  1, 10,  6, 10,  5,  8,  5,  2,\n",
       "        6,  7,  1,  1,  9,  2,  2,  4,  2,  3, 10,  2,  3, 10,  8,  9,  8,\n",
       "        2,  8,  4,  1, 10,  7,  3,  3,  7,  6,  5,  6,  3,  5,  6,  2,  9,\n",
       "        9, 10,  9, 10,  6,  1, 10,  1,  8,  7,  6, 10,  7,  8,  2,  1,  4,\n",
       "        5,  8,  3,  3,  9, 10,  6,  4,  5,  4, 10,  7,  8,  8,  3,  5,  1,\n",
       "        4,  2,  1,  8,  3,  4,  8,  3,  9, 10,  3, 10,  2,  7,  9,  5,  1,\n",
       "        9,  9,  6,  6,  7,  6,  2,  1,  3,  3, 10,  6, 10,  8,  1,  4,  1,\n",
       "        2,  1,  8, 10,  9,  4,  4, 10,  4, 10,  3, 10,  8,  7,  2,  6,  8,\n",
       "        9,  7, 10,  7,  2,  9,  1, 10,  4,  7, 10,  4,  3,  3, 10,  6,  5,\n",
       "        6,  6,  8,  2, 10,  2, 10, 10,  9,  1,  5,  9,  9, 10,  1,  7, 10,\n",
       "        7,  1,  2,  4,  6,  4,  5,  7,  2,  4,  6, 10,  7,  5,  7,  6,  4,\n",
       "        5,  6,  3, 10,  1,  5, 10,  3,  4,  4, 10,  3,  5,  3, 10,  6,  2,\n",
       "        4,  8,  9,  5,  3,  8,  5,  4,  9, 10,  5,  2,  2,  5,  1,  2,  1,\n",
       "        1,  5,  6,  3,  1,  4, 10,  6,  9,  9,  8,  6,  1,  9,  8,  8,  1,\n",
       "       10,  9,  1,  9,  6,  2,  5,  9,  9,  9,  9,  9,  8,  9, 10,  3,  4,\n",
       "        3,  3,  7, 10,  7,  4, 10,  6,  7,  4,  6,  2, 10, 10, 10, 10,  8,\n",
       "        4,  8,  7,  3,  9,  4,  1,  4,  5,  7, 10,  9,  4,  1,  5,  2,  6,\n",
       "        1,  1,  2,  1,  7,  1, 10,  6,  5,  6,  3,  4,  3,  8,  3,  6,  4,\n",
       "        3,  4,  4,  3,  7,  7, 10,  4,  7, 10,  6,  2,  6,  4,  4,  7,  4,\n",
       "        3,  6,  7, 10,  8,  8, 10,  1,  6,  5,  9, 10,  2,  7,  8,  2,  8,\n",
       "        5,  4,  4, 10,  8,  8,  2,  6, 10,  7,  8,  2,  7,  1,  3, 10,  9,\n",
       "        8,  6,  9,  8,  1,  3,  8,  9,  1,  9, 10,  2,  8,  1,  9,  4,  2,\n",
       "        6,  4,  3,  9,  6,  2, 10,  6,  6,  8,  1,  8,  7,  2, 10,  7,  1,\n",
       "        8,  7,  3,  8,  6,  1,  5,  2, 10,  4,  2,  3,  9,  6,  3,  6,  3,\n",
       "        9,  3,  4, 10,  9,  6,  9,  8,  7,  4,  4,  8,  3,  2, 10,  5,  5,\n",
       "        8, 10,  1,  1,  8,  8,  2, 10,  4,  5,  6,  4,  6,  2,  8,  7,  2,\n",
       "       10, 10, 10, 10,  8,  2,  2,  5,  3,  6,  7,  2,  2,  3,  3,  4,  9,\n",
       "        1,  6,  6,  9,  2,  8,  4,  6,  7,  7,  8, 10,  5,  4,  1, 10,  7,\n",
       "        8,  7,  5,  4,  3,  5,  4,  6,  2,  4,  5, 10,  1,  3,  5, 10,  3,\n",
       "        7, 10,  2, 10, 10,  5,  7,  2,  2,  7,  6,  6,  5,  4,  6,  9,  3,\n",
       "        3,  6,  7,  3,  7,  3,  7,  5,  2,  7,  2,  1,  9,  8, 10,  6,  5,\n",
       "        3,  3,  3,  4,  3,  6,  4,  4,  1,  8,  4,  9,  6,  1,  8,  4,  5,\n",
       "       10, 10,  4,  1,  4,  9,  2,  6,  2,  9,  7,  5,  1,  7,  8,  5,  6,\n",
       "        1,  8,  2,  5,  1, 10,  2,  7,  7,  1, 10, 10,  6,  1,  4,  7,  3,\n",
       "        2,  6,  9,  6,  5, 10,  9,  1,  3, 10,  8,  4,  2,  8,  9,  9,  8,\n",
       "        6,  9,  5,  7,  6,  3,  4,  6,  4,  3,  2,  2,  8,  8,  5,  1, 10,\n",
       "       10, 10,  2,  1,  9,  4,  5,  9,  1,  7,  3, 10,  4,  1, 10,  2, 10,\n",
       "       10,  3,  2,  9,  7,  8, 10,  9, 10,  6,  3, 10,  8,  8,  3,  4,  6,\n",
       "        4,  2,  2,  7,  8,  1,  5,  2,  2,  3,  8,  3,  5,  4,  8,  2,  1,\n",
       "        9,  6,  5,  8,  7,  7,  3,  1,  9,  9,  2,  8,  4,  3,  5,  5,  7,\n",
       "        9,  3,  9, 10,  9,  1,  4,  4,  7,  7,  2,  9,  2,  6,  8,  7, 10,\n",
       "        8,  9, 10,  8, 10,  6,  8,  8,  4,  8,  9,  9,  9,  8,  4, 10,  3,\n",
       "       10,  1,  1,  8,  8,  9,  9,  9,  5,  2,  6,  3,  5, 10,  3,  5, 10,\n",
       "        7,  4,  5,  3,  4,  7,  6, 10,  7,  4,  9,  4,  1,  3,  1,  9,  8,\n",
       "        9,  9,  4,  9,  1,  4,  9,  3,  3,  7,  3,  1,  8,  3,  2,  5,  1,\n",
       "        2,  7, 10,  8,  8,  9,  4,  7,  7,  5,  4,  5,  3,  7,  4, 10,  2,\n",
       "        9,  9,  2,  8,  5,  5,  7,  6,  7, 10,  3,  6,  7,  6],\n",
       "      dtype=int64)"
      ]
     },
     "execution_count": 13,
     "metadata": {},
     "output_type": "execute_result"
    }
   ],
   "source": [
    "# PLotting distributions\n",
    "low =1\n",
    "high=10\n",
    "rand_ints = rng.integers(low=low, high=high+1, size = 1000)\n",
    "\n",
    "rand_ints"
   ]
  },
  {
   "cell_type": "code",
   "execution_count": 8,
   "metadata": {},
   "outputs": [
    {
     "data": {
      "text/plain": [
       "<BarContainer object of 3 artists>"
      ]
     },
     "execution_count": 8,
     "metadata": {},
     "output_type": "execute_result"
    },
    {
     "data": {
      "image/png": "[encoded data removed]",
      "text/plain": [
       "<Figure size 640x480 with 1 Axes>"
      ]
     },
     "metadata": {},
     "output_type": "display_data"
    }
   ],
   "source": [
    "# plotting a bar chart\n",
    "\n",
    "fig, ax = plt.subplots()\n",
    "ax.bar([1,2,3], [20, 15, 150])\n"
   ]
  },
  {
   "cell_type": "code",
   "execution_count": 22,
   "metadata": {},
   "outputs": [
    {
     "data": {
      "text/plain": [
       "<BarContainer object of 10 artists>"
      ]
     },
     "execution_count": 22,
     "metadata": {},
     "output_type": "execute_result"
    },
    {
     "data": {
      "image/png": "[encoded data removed]",
      "text/plain": [
       "<Figure size 1200x300 with 1 Axes>"
      ]
     },
     "metadata": {},
     "output_type": "display_data"
    }
   ],
   "source": [
    "#x = np.arange(low, high+1, dtype=int)\n",
    "x, counts = np.unique(rand_ints, return_counts=True)\n",
    "fig, ax = plt.subplots(figsize=(12,3))\n",
    "ax.bar(x, counts)\n"
   ]
  },
  {
   "cell_type": "code",
   "execution_count": 28,
   "metadata": {},
   "outputs": [
    {
     "data": {
      "text/plain": [
       "(array([4902., 4964., 4923., 4985., 4838., 5177., 5149., 4977., 4976.,\n",
       "        4965., 4888., 5098., 5019., 5031., 5114., 4990., 4978., 5063.,\n",
       "        5024., 4939.]),\n",
       " array([4.88068270e-06, 5.00045323e-02, 1.00004184e-01, 1.50003835e-01,\n",
       "        2.00003487e-01, 2.50003139e-01, 3.00002790e-01, 3.50002442e-01,\n",
       "        4.00002093e-01, 4.50001745e-01, 5.00001397e-01, 5.50001048e-01,\n",
       "        6.00000700e-01, 6.50000351e-01, 7.00000003e-01, 7.49999654e-01,\n",
       "        7.99999306e-01, 8.49998958e-01, 8.99998609e-01, 9.49998261e-01,\n",
       "        9.99997912e-01]),\n",
       " <BarContainer object of 20 artists>)"
      ]
     },
     "execution_count": 28,
     "metadata": {},
     "output_type": "execute_result"
    },
    {
     "data": {
      "image/png": "[encoded data removed]",
      "text/plain": [
       "<Figure size 1200x300 with 1 Axes>"
      ]
     },
     "metadata": {},
     "output_type": "display_data"
    }
   ],
   "source": [
    "# plotting histograms\n",
    "size = 100000\n",
    "rand_float = rng.random(size)\n",
    "rand_float\n",
    "fig, ax = plt.subplots(figsize=(12,3))\n",
    "ax.hist(rand_float, bins=20)\n"
   ]
  },
  {
   "cell_type": "code",
   "execution_count": 38,
   "metadata": {},
   "outputs": [
    {
     "data": {
      "image/png": "[encoded data removed]",
      "text/plain": [
       "<Figure size 1200x300 with 1 Axes>"
      ]
     },
     "metadata": {},
     "output_type": "display_data"
    }
   ],
   "source": [
    "# NOrmal looking data\n",
    "\n",
    "rand_normal = rng.standard_normal(100000)\n",
    "fig, ax = plt.subplots(figsize=(12,3))\n",
    "ax.hist(rand_normal, bins=100, density=True);"
   ]
  },
  {
   "cell_type": "code",
   "execution_count": null,
   "metadata": {},
   "outputs": [],
   "source": []
  },
  {
   "cell_type": "markdown",
   "metadata": {},
   "source": [
    "# normal pdf\n",
    "\n",
    "$$ f(x) = \\frac{1}{\\sigma \\sqrt{2 \\pi}} e^{-\\frac{1}{2} \\big( \\frac{x- \\mu}{\\sigma} \\big)^2} $$"
   ]
  },
  {
   "cell_type": "code",
   "execution_count": null,
   "metadata": {},
   "outputs": [],
   "source": [
    "# standard normal pdf\n",
    "#sigma and mu =1"
   ]
  },
  {
   "cell_type": "code",
   "execution_count": 41,
   "metadata": {},
   "outputs": [
    {
     "name": "stdout",
     "output_type": "stream",
     "text": [
      "0.3989422804014327\n"
     ]
    }
   ],
   "source": [
    "# x is a numpy array\n",
    "def f(x):\n",
    "  A = 1  / np.sqrt(2 * np.pi)\n",
    "  B = np.exp(-x**2/2)\n",
    "  return A*B\n",
    "print(f(0))"
   ]
  },
  {
   "cell_type": "markdown",
   "metadata": {},
   "source": []
  },
  {
   "cell_type": "code",
   "execution_count": 42,
   "metadata": {},
   "outputs": [
    {
     "data": {
      "text/plain": [
       "array([-5.  , -4.99, -4.98, ...,  4.98,  4.99,  5.  ])"
      ]
     },
     "execution_count": 42,
     "metadata": {},
     "output_type": "execute_result"
    }
   ],
   "source": [
    "x = np.linspace(-5, 5, 1001)\n",
    "\n",
    "x"
   ]
  },
  {
   "cell_type": "code",
   "execution_count": 47,
   "metadata": {},
   "outputs": [
    {
     "data": {
      "image/png": "[encoded data removed]",
      "text/plain": [
       "<Figure size 1200x300 with 1 Axes>"
      ]
     },
     "metadata": {},
     "output_type": "display_data"
    }
   ],
   "source": [
    "rand_normal = rng.standard_normal(100000)\n",
    "fig, ax = plt.subplots(figsize=(12,3))\n",
    "ax.hist(rand_normal, bins=100, density=True);\n",
    "ax.plot(x, f(x));"
   ]
  },
  {
   "cell_type": "code",
   "execution_count": null,
   "metadata": {},
   "outputs": [],
   "source": []
  }
 ],
 "metadata": {
  "kernelspec": {
   "display_name": "base",
   "language": "python",
   "name": "python3"
  },
  "language_info": {
   "codemirror_mode": {
    "name": "ipython",
    "version": 3
   },
   "file_extension": ".py",
   "mimetype": "text/x-python",
   "name": "python",
   "nbconvert_exporter": "python",
   "pygments_lexer": "ipython3",
   "version": "3.10.9"
  }
 },
 "nbformat": 4,
 "nbformat_minor": 2
}
