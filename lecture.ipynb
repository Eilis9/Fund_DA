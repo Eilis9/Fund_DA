{
 "cells": [
  {
   "cell_type": "code",
   "execution_count": 2,
   "metadata": {},
   "outputs": [],
   "source": [
    "import numpy as np\n",
    "import matplotlib.pyplot as plt\n"
   ]
  },
  {
   "cell_type": "code",
   "execution_count": 13,
   "metadata": {},
   "outputs": [
    {
     "data": {
      "text/plain": [
       "0.5662158085373703"
      ]
     },
     "execution_count": 13,
     "metadata": {},
     "output_type": "execute_result"
    }
   ],
   "source": [
    "rng = np.random.default_rng()\n",
    "# Generates random floats in the half-open interval [0,1)\n",
    "rng.random()"
   ]
  },
  {
   "cell_type": "code",
   "execution_count": 14,
   "metadata": {},
   "outputs": [
    {
     "data": {
      "text/plain": [
       "array([ 0.55279528, -0.53518641, -0.22358861,  0.26847622,  0.06873501,\n",
       "       -0.94748581,  0.89540408, -0.44470206, -0.59964046, -1.58003366,\n",
       "       -0.6086358 ,  0.5378849 , -1.13155308, -0.1615572 ,  0.09966282,\n",
       "       -0.07247619,  1.10044954,  1.6589672 ,  2.2360675 ,  0.31992051,\n",
       "        0.30339141, -0.13751085,  0.46349242,  0.60147533,  0.03237775,\n",
       "        1.02414958,  1.21269593, -0.38330785, -1.05413217,  0.41946486,\n",
       "        0.48604866,  0.82113772, -0.3901048 , -2.04402735, -2.00390346,\n",
       "        0.61492164,  1.54591549,  0.90972085,  0.39593054, -0.39342322,\n",
       "       -0.34677208, -2.35477298, -0.07321324,  0.71350085, -0.51038728,\n",
       "       -1.1328052 ,  0.90180745,  2.18275573,  0.3998296 ,  1.05947571,\n",
       "        0.31634819,  0.12729077, -0.44276147,  1.42922748, -1.71685817,\n",
       "       -0.33610222,  2.36938605, -1.11542591,  1.42692931,  0.94671057,\n",
       "        0.76034325, -0.10105814, -0.36912417,  0.36700161, -1.85873776,\n",
       "        1.49324789,  1.96824305, -0.15051546, -0.28748175,  1.16925516,\n",
       "        0.03263038,  0.12676615,  1.62322345, -0.81180244,  1.04033864,\n",
       "       -0.8779645 ,  0.5105769 ,  0.37136033,  0.43860056,  0.05122454,\n",
       "        0.22603431, -0.36622496,  0.09728285, -1.3036357 , -1.32167377,\n",
       "       -1.0571745 , -0.60766693,  1.10358474, -1.15618483,  0.91230159,\n",
       "       -0.38595236,  1.44572742,  0.73276813,  0.67168242, -0.30655621,\n",
       "       -1.34115229, -1.20033711,  0.4717015 ,  1.31409614, -0.28064238])"
      ]
     },
     "execution_count": 14,
     "metadata": {},
     "output_type": "execute_result"
    }
   ],
   "source": [
    "# Generate numbers on a standard normal distribution, mean is 0 and standard deviation is 1\n",
    "# more than 99pc of the numbers generated should be in the interval (-3, and 3)\n",
    "rng.standard_normal(100)"
   ]
  },
  {
   "cell_type": "code",
   "execution_count": 7,
   "metadata": {},
   "outputs": [
    {
     "data": {
      "text/plain": [
       "array([12, 11, 10, 18, 13, 15, 17, 10, 17, 19, 12, 10, 11, 14, 15],\n",
       "      dtype=int64)"
      ]
     },
     "execution_count": 7,
     "metadata": {},
     "output_type": "execute_result"
    }
   ],
   "source": [
    "rng.integers(low=10, high=20, size = 15)"
   ]
  },
  {
   "cell_type": "code",
   "execution_count": 8,
   "metadata": {},
   "outputs": [
    {
     "data": {
      "text/plain": [
       "0.5449167250786291"
      ]
     },
     "execution_count": 8,
     "metadata": {},
     "output_type": "execute_result"
    }
   ],
   "source": []
  },
  {
   "cell_type": "code",
   "execution_count": null,
   "metadata": {},
   "outputs": [],
   "source": []
  }
 ],
 "metadata": {
  "kernelspec": {
   "display_name": "base",
   "language": "python",
   "name": "python3"
  },
  "language_info": {
   "codemirror_mode": {
    "name": "ipython",
    "version": 3
   },
   "file_extension": ".py",
   "mimetype": "text/x-python",
   "name": "python",
   "nbconvert_exporter": "python",
   "pygments_lexer": "ipython3",
   "version": "3.10.9"
  }
 },
 "nbformat": 4,
 "nbformat_minor": 2
}
