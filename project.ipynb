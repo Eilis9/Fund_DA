{
 "cells": [
  {
   "cell_type": "markdown",
   "metadata": {},
   "source": [
    "<h1><img align=\"right\" width=\"350\" src=\"img/ATU-Logo-Full-RGB-Green.jpg\"> Fundamentals of Data Analysis - Project\n",
    "</h1>\n",
    "<p> \n",
    "Course: HDip in Computing in Data Analytics <br>\n",
    "Module: Fundamentals of Data Analysis <br>\n",
    "Lecturer: Ian McLoughlin\n",
    "\n",
    "A notebook which contains the work on the Project for the above module (Autumn 2023)\n",
    "\n",
    "Student: Eilis Donohue (G00006088)\n",
    "\n",
    "Software Used: \n",
    " - Python v3.7 and higher\n",
    " - Jupyter Notebook 6.4.12   \n",
    "\n",
    "***"
   ]
  },
  {
   "cell_type": "markdown",
   "metadata": {},
   "source": []
  },
  {
   "cell_type": "markdown",
   "metadata": {},
   "source": [
    "Project Scope:\n",
    "\n",
    "- Create a notebook investigating the variables and data points within the well-known iris flower data set associated with Ronald A Fisher [ref]\n",
    "- In the notebook, your\n",
    "\n",
    "\n"
   ]
  }
 ],
 "metadata": {
  "language_info": {
   "name": "python"
  },
  "orig_nbformat": 4
 },
 "nbformat": 4,
 "nbformat_minor": 2
}
